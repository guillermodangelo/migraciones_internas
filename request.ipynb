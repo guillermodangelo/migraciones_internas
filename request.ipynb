{
 "cells": [
  {
   "cell_type": "code",
   "execution_count": 8,
   "metadata": {},
   "outputs": [],
   "source": [
    "import requests\n",
    "import itertools\n",
    "import geopandas as gpd\n",
    "import pandas as pd\n",
    "from shapely.geometry import LineString, Point"
   ]
  },
  {
   "cell_type": "code",
   "execution_count": 9,
   "metadata": {},
   "outputs": [
    {
     "data": {
      "text/plain": [
       "['-56.174030195714,-34.8634731144801',\n",
       " '-56.8155472789126,-30.4070624167322',\n",
       " '-56.0461527421891,-34.7048062340561']"
      ]
     },
     "execution_count": 9,
     "metadata": {},
     "output_type": "execute_result"
    }
   ],
   "source": [
    "BASE_URL = 'http://127.0.0.1:5000/route/v1/driving/{};{}?steps=false&geometries=geojson&overview=simplified'\n",
    "\n",
    "puntos = pd.read_csv('data/coords.csv')\n",
    "puntos_str = [str(puntos.lon[i]) + ',' + str(puntos.lat[i]) for i in range(puntos.shape[0])]\n",
    "\n",
    "puntos_str[0:3]"
   ]
  },
  {
   "cell_type": "code",
   "execution_count": 10,
   "metadata": {},
   "outputs": [
    {
     "data": {
      "text/plain": [
       "361"
      ]
     },
     "execution_count": 10,
     "metadata": {},
     "output_type": "execute_result"
    }
   ],
   "source": [
    "product = list(itertools.product(puntos_str, puntos_str))\n",
    "len(product)"
   ]
  },
  {
   "cell_type": "code",
   "execution_count": 11,
   "metadata": {},
   "outputs": [
    {
     "data": {
      "text/plain": [
       "['http://127.0.0.1:5000/route/v1/driving/-56.174030195714,-34.8634731144801;-56.174030195714,-34.8634731144801?steps=false&geometries=geojson&overview=simplified',\n",
       " 'http://127.0.0.1:5000/route/v1/driving/-56.174030195714,-34.8634731144801;-56.8155472789126,-30.4070624167322?steps=false&geometries=geojson&overview=simplified',\n",
       " 'http://127.0.0.1:5000/route/v1/driving/-56.174030195714,-34.8634731144801;-56.0461527421891,-34.7048062340561?steps=false&geometries=geojson&overview=simplified']"
      ]
     },
     "execution_count": 11,
     "metadata": {},
     "output_type": "execute_result"
    }
   ],
   "source": [
    "urls = [BASE_URL.format(i[0], i[1]) for i in product]\n",
    "urls[0:3]"
   ]
  },
  {
   "cell_type": "code",
   "execution_count": 28,
   "metadata": {},
   "outputs": [],
   "source": [
    "lines = []\n",
    "coords = []\n",
    "\n",
    "for url in urls:\n",
    "    response = requests.get(url)\n",
    "    coord = response.json()['routes'][0]['geometry']['coordinates']\n",
    "    coord_tuples = [tuple(i) for i in coord]\n",
    "    points = [Point(i) for i in coord]\n",
    "    lines.append(LineString(points))\n",
    "    coords.append(coord_tuples)\n",
    "\n",
    "id_diadas = list(itertools.product(puntos.DEPTO, puntos.DEPTO))"
   ]
  },
  {
   "cell_type": "code",
   "execution_count": 47,
   "metadata": {},
   "outputs": [],
   "source": [
    "test = {\n",
    "    'origen': [],\n",
    "    'destino': [],\n",
    "    'coordinates': []\n",
    "    }"
   ]
  },
  {
   "cell_type": "code",
   "execution_count": 48,
   "metadata": {},
   "outputs": [],
   "source": [
    "for i in range(25):\n",
    "    test[\"ori\"].append(id_diadas[i][0])\n",
    "    test[\"des\"].append(id_diadas[i][1])\n",
    "    test['coordinates'].append(coords[i])"
   ]
  },
  {
   "cell_type": "code",
   "execution_count": 58,
   "metadata": {},
   "outputs": [],
   "source": [
    "dict_you_want = {'ori': value for key, value in test.items() if value == 1}"
   ]
  },
  {
   "cell_type": "code",
   "execution_count": 59,
   "metadata": {},
   "outputs": [
    {
     "data": {
      "text/plain": [
       "{}"
      ]
     },
     "execution_count": 59,
     "metadata": {},
     "output_type": "execute_result"
    }
   ],
   "source": [
    "dict_you_want"
   ]
  },
  {
   "cell_type": "code",
   "execution_count": 45,
   "metadata": {},
   "outputs": [],
   "source": [
    "test = {\n",
    "    'origen': id_diadas[1][0],\n",
    "    'destino': id_diadas[1][1],\n",
    "    'coordinates': coords[1]\n",
    "    }"
   ]
  },
  {
   "cell_type": "code",
   "execution_count": 46,
   "metadata": {},
   "outputs": [
    {
     "data": {
      "text/plain": [
       "[(-56.174277, -34.863831),\n",
       " (-56.274596, -34.785226),\n",
       " (-56.238048, -34.69474),\n",
       " (-56.282012, -34.497185),\n",
       " (-56.179921, -34.147774),\n",
       " (-56.236247, -34.07355),\n",
       " (-56.366919, -33.572838),\n",
       " (-56.524333, -33.391892),\n",
       " (-56.456694, -33.173413),\n",
       " (-56.521876, -32.769049),\n",
       " (-56.229349, -32.254381),\n",
       " (-56.110673, -32.166317),\n",
       " (-55.974771, -31.822472),\n",
       " (-55.969487, -31.713067),\n",
       " (-55.879069, -31.619756),\n",
       " (-55.691603, -31.541787),\n",
       " (-55.660493, -31.247976),\n",
       " (-55.766702, -31.175136),\n",
       " (-55.918543, -31.143775),\n",
       " (-56.141446, -30.994226),\n",
       " (-56.409092, -30.595412),\n",
       " (-56.459082, -30.423948),\n",
       " (-56.609863, -30.451036),\n",
       " (-56.81774, -30.298279),\n",
       " (-56.890056, -30.309145),\n",
       " (-56.820821, -30.338371),\n",
       " (-56.799735, -30.394415)]"
      ]
     },
     "execution_count": 46,
     "metadata": {},
     "output_type": "execute_result"
    }
   ],
   "source": [
    "test['coordinates']"
   ]
  },
  {
   "cell_type": "code",
   "execution_count": 27,
   "metadata": {},
   "outputs": [
    {
     "data": {
      "text/plain": [
       "(-56.174277, -34.863831)"
      ]
     },
     "execution_count": 27,
     "metadata": {},
     "output_type": "execute_result"
    }
   ],
   "source": [
    "tuple(coords[0][0])"
   ]
  },
  {
   "cell_type": "code",
   "execution_count": null,
   "metadata": {},
   "outputs": [],
   "source": [
    "ori = pd.DataFrame(id_diadas)[0]\n",
    "des = pd.DataFrame(id_diadas)[1]\n",
    "\n",
    "d = {'origen': ori, 'destino': des, 'coordinates': coords}\n",
    "df = pd.GeoDataFrame(d, crs=4326)\n",
    "df = df.loc[df.origen != df.destino]\n",
    "df.head()"
   ]
  },
  {
   "cell_type": "code",
   "execution_count": 6,
   "metadata": {},
   "outputs": [
    {
     "data": {
      "text/html": [
       "<div>\n",
       "<style scoped>\n",
       "    .dataframe tbody tr th:only-of-type {\n",
       "        vertical-align: middle;\n",
       "    }\n",
       "\n",
       "    .dataframe tbody tr th {\n",
       "        vertical-align: top;\n",
       "    }\n",
       "\n",
       "    .dataframe thead th {\n",
       "        text-align: right;\n",
       "    }\n",
       "</style>\n",
       "<table border=\"1\" class=\"dataframe\">\n",
       "  <thead>\n",
       "    <tr style=\"text-align: right;\">\n",
       "      <th></th>\n",
       "      <th>origen</th>\n",
       "      <th>destino</th>\n",
       "      <th>geometry</th>\n",
       "    </tr>\n",
       "  </thead>\n",
       "  <tbody>\n",
       "    <tr>\n",
       "      <th>1</th>\n",
       "      <td>1</td>\n",
       "      <td>2</td>\n",
       "      <td>LINESTRING (-56.17428 -34.86383, -56.27460 -34...</td>\n",
       "    </tr>\n",
       "    <tr>\n",
       "      <th>2</th>\n",
       "      <td>1</td>\n",
       "      <td>3</td>\n",
       "      <td>LINESTRING (-56.17428 -34.86383, -56.17495 -34...</td>\n",
       "    </tr>\n",
       "    <tr>\n",
       "      <th>3</th>\n",
       "      <td>1</td>\n",
       "      <td>4</td>\n",
       "      <td>LINESTRING (-56.17428 -34.86383, -56.14081 -34...</td>\n",
       "    </tr>\n",
       "    <tr>\n",
       "      <th>4</th>\n",
       "      <td>1</td>\n",
       "      <td>5</td>\n",
       "      <td>LINESTRING (-56.17428 -34.86383, -56.17646 -34...</td>\n",
       "    </tr>\n",
       "    <tr>\n",
       "      <th>5</th>\n",
       "      <td>1</td>\n",
       "      <td>6</td>\n",
       "      <td>LINESTRING (-56.17428 -34.86383, -56.25299 -34...</td>\n",
       "    </tr>\n",
       "  </tbody>\n",
       "</table>\n",
       "</div>"
      ],
      "text/plain": [
       "   origen  destino                                           geometry\n",
       "1       1        2  LINESTRING (-56.17428 -34.86383, -56.27460 -34...\n",
       "2       1        3  LINESTRING (-56.17428 -34.86383, -56.17495 -34...\n",
       "3       1        4  LINESTRING (-56.17428 -34.86383, -56.14081 -34...\n",
       "4       1        5  LINESTRING (-56.17428 -34.86383, -56.17646 -34...\n",
       "5       1        6  LINESTRING (-56.17428 -34.86383, -56.25299 -34..."
      ]
     },
     "execution_count": 6,
     "metadata": {},
     "output_type": "execute_result"
    }
   ],
   "source": [
    "ori = pd.DataFrame(id_diadas)[0]\n",
    "des = pd.DataFrame(id_diadas)[1]\n",
    "\n",
    "d = {'origen': ori, 'destino': des, 'geometry': lines}\n",
    "df = gpd.GeoDataFrame(d, crs=4326)\n",
    "df = df.loc[df.origen != df.destino]\n",
    "df.head()"
   ]
  },
  {
   "cell_type": "code",
   "execution_count": 7,
   "metadata": {},
   "outputs": [
    {
     "name": "stderr",
     "output_type": "stream",
     "text": [
      "/home/guillermo/anaconda3/envs/tablero_migraciones/lib/python3.10/site-packages/geopandas/io/file.py:362: FutureWarning: pandas.Int64Index is deprecated and will be removed from pandas in a future version. Use pandas.Index with the appropriate dtype instead.\n",
      "  pd.Int64Index,\n"
     ]
    }
   ],
   "source": [
    "df.to_file('data/shortest_paths.geojson')"
   ]
  },
  {
   "cell_type": "code",
   "execution_count": 6,
   "metadata": {},
   "outputs": [
    {
     "data": {
      "text/html": [
       "<div>\n",
       "<style scoped>\n",
       "    .dataframe tbody tr th:only-of-type {\n",
       "        vertical-align: middle;\n",
       "    }\n",
       "\n",
       "    .dataframe tbody tr th {\n",
       "        vertical-align: top;\n",
       "    }\n",
       "\n",
       "    .dataframe thead th {\n",
       "        text-align: right;\n",
       "    }\n",
       "</style>\n",
       "<table border=\"1\" class=\"dataframe\">\n",
       "  <thead>\n",
       "    <tr style=\"text-align: right;\">\n",
       "      <th></th>\n",
       "      <th>0</th>\n",
       "    </tr>\n",
       "  </thead>\n",
       "  <tbody>\n",
       "    <tr>\n",
       "      <th>type</th>\n",
       "      <td>FeatureCollection</td>\n",
       "    </tr>\n",
       "    <tr>\n",
       "      <th>crs</th>\n",
       "      <td>{'type': 'name', 'properties': {'name': 'urn:o...</td>\n",
       "    </tr>\n",
       "    <tr>\n",
       "      <th>features</th>\n",
       "      <td>[{'type': 'Feature', 'properties': {'origen': ...</td>\n",
       "    </tr>\n",
       "  </tbody>\n",
       "</table>\n",
       "</div>"
      ],
      "text/plain": [
       "                                                          0\n",
       "type                                      FeatureCollection\n",
       "crs       {'type': 'name', 'properties': {'name': 'urn:o...\n",
       "features  [{'type': 'Feature', 'properties': {'origen': ..."
      ]
     },
     "execution_count": 6,
     "metadata": {},
     "output_type": "execute_result"
    }
   ],
   "source": [
    "import pandas as pd\n",
    "geojson_lines = pd.read_json('data/shortest_paths.geojson', orient='index')\n",
    "geojson_lines"
   ]
  },
  {
   "cell_type": "code",
   "execution_count": null,
   "metadata": {},
   "outputs": [],
   "source": [
    "folium.GeoJson(antarctic_ice_edge, name=\"geojson\").add_to(m)"
   ]
  }
 ],
 "metadata": {
  "kernelspec": {
   "display_name": "Python 3.10.4 ('tablero_migraciones')",
   "language": "python",
   "name": "python3"
  },
  "language_info": {
   "codemirror_mode": {
    "name": "ipython",
    "version": 3
   },
   "file_extension": ".py",
   "mimetype": "text/x-python",
   "name": "python",
   "nbconvert_exporter": "python",
   "pygments_lexer": "ipython3",
   "version": "3.10.4"
  },
  "orig_nbformat": 4,
  "vscode": {
   "interpreter": {
    "hash": "465017645b8f0dbdbf5ce81b87d7066d4e147be498d80b4bfd47117126b5fb4d"
   }
  }
 },
 "nbformat": 4,
 "nbformat_minor": 2
}
