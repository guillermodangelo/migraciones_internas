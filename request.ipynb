{
 "cells": [
  {
   "cell_type": "code",
   "execution_count": 8,
   "metadata": {},
   "outputs": [],
   "source": [
    "import requests\n",
    "import itertools\n",
    "import geopandas as gpd\n",
    "import pandas as pd\n",
    "from shapely.geometry import LineString, Point"
   ]
  },
  {
   "cell_type": "code",
   "execution_count": 9,
   "metadata": {},
   "outputs": [
    {
     "data": {
      "text/plain": [
       "['-56.174030195714,-34.8634731144801',\n",
       " '-56.8155472789126,-30.4070624167322',\n",
       " '-56.0461527421891,-34.7048062340561']"
      ]
     },
     "execution_count": 9,
     "metadata": {},
     "output_type": "execute_result"
    }
   ],
   "source": [
    "BASE_URL = 'http://127.0.0.1:5000/route/v1/driving/{};{}?steps=false&geometries=geojson&overview=simplified'\n",
    "\n",
    "puntos = pd.read_csv('data/coords.csv')\n",
    "puntos_str = [str(puntos.lon[i]) + ',' + str(puntos.lat[i]) for i in range(puntos.shape[0])]\n",
    "\n",
    "puntos_str[0:3]"
   ]
  },
  {
   "cell_type": "code",
   "execution_count": 10,
   "metadata": {},
   "outputs": [
    {
     "data": {
      "text/plain": [
       "361"
      ]
     },
     "execution_count": 10,
     "metadata": {},
     "output_type": "execute_result"
    }
   ],
   "source": [
    "product = list(itertools.product(puntos_str, puntos_str))\n",
    "len(product)"
   ]
  },
  {
   "cell_type": "code",
   "execution_count": 11,
   "metadata": {},
   "outputs": [
    {
     "data": {
      "text/plain": [
       "['http://127.0.0.1:5000/route/v1/driving/-56.174030195714,-34.8634731144801;-56.174030195714,-34.8634731144801?steps=false&geometries=geojson&overview=simplified',\n",
       " 'http://127.0.0.1:5000/route/v1/driving/-56.174030195714,-34.8634731144801;-56.8155472789126,-30.4070624167322?steps=false&geometries=geojson&overview=simplified',\n",
       " 'http://127.0.0.1:5000/route/v1/driving/-56.174030195714,-34.8634731144801;-56.0461527421891,-34.7048062340561?steps=false&geometries=geojson&overview=simplified']"
      ]
     },
     "execution_count": 11,
     "metadata": {},
     "output_type": "execute_result"
    }
   ],
   "source": [
    "urls = [BASE_URL.format(i[0], i[1]) for i in product]\n",
    "urls[0:3]"
   ]
  },
  {
   "cell_type": "code",
   "execution_count": 79,
   "metadata": {},
   "outputs": [],
   "source": [
    "lines = []\n",
    "coords = []\n",
    "\n",
    "for url in urls:\n",
    "    response = requests.get(url)\n",
    "    coord = response.json()['routes'][0]['geometry']['coordinates']\n",
    "    coord_tuples = [(i[1], i[0]) for i in coord]\n",
    "    points = [Point(i) for i in coord]\n",
    "    lines.append(LineString(points))\n",
    "    coords.append(coord_tuples)\n",
    "\n",
    "id_diadas = list(itertools.product(puntos.DEPTO, puntos.DEPTO))"
   ]
  },
  {
   "cell_type": "code",
   "execution_count": 82,
   "metadata": {},
   "outputs": [
    {
     "data": {
      "text/plain": [
       "[(-33.17008, -54.34938), (-33.17008, -54.34938)]"
      ]
     },
     "execution_count": 82,
     "metadata": {},
     "output_type": "execute_result"
    }
   ],
   "source": [
    "coord_tuples"
   ]
  },
  {
   "cell_type": "code",
   "execution_count": 83,
   "metadata": {},
   "outputs": [
    {
     "data": {
      "text/html": [
       "<div>\n",
       "<style scoped>\n",
       "    .dataframe tbody tr th:only-of-type {\n",
       "        vertical-align: middle;\n",
       "    }\n",
       "\n",
       "    .dataframe tbody tr th {\n",
       "        vertical-align: top;\n",
       "    }\n",
       "\n",
       "    .dataframe thead th {\n",
       "        text-align: right;\n",
       "    }\n",
       "</style>\n",
       "<table border=\"1\" class=\"dataframe\">\n",
       "  <thead>\n",
       "    <tr style=\"text-align: right;\">\n",
       "      <th></th>\n",
       "      <th>ori</th>\n",
       "      <th>des</th>\n",
       "      <th>coords</th>\n",
       "    </tr>\n",
       "  </thead>\n",
       "  <tbody>\n",
       "    <tr>\n",
       "      <th>0</th>\n",
       "      <td>1</td>\n",
       "      <td>2</td>\n",
       "      <td>[(-34.863831, -56.174277), (-34.785226, -56.27...</td>\n",
       "    </tr>\n",
       "    <tr>\n",
       "      <th>1</th>\n",
       "      <td>1</td>\n",
       "      <td>3</td>\n",
       "      <td>[(-34.863831, -56.174277), (-34.865018, -56.17...</td>\n",
       "    </tr>\n",
       "    <tr>\n",
       "      <th>2</th>\n",
       "      <td>1</td>\n",
       "      <td>4</td>\n",
       "      <td>[(-34.863831, -56.174277), (-34.827146, -56.14...</td>\n",
       "    </tr>\n",
       "    <tr>\n",
       "      <th>3</th>\n",
       "      <td>1</td>\n",
       "      <td>5</td>\n",
       "      <td>[(-34.863831, -56.174277), (-34.870376, -56.17...</td>\n",
       "    </tr>\n",
       "    <tr>\n",
       "      <th>4</th>\n",
       "      <td>1</td>\n",
       "      <td>6</td>\n",
       "      <td>[(-34.863831, -56.174277), (-34.832533, -56.25...</td>\n",
       "    </tr>\n",
       "  </tbody>\n",
       "</table>\n",
       "</div>"
      ],
      "text/plain": [
       "   ori  des                                             coords\n",
       "0    1    2  [(-34.863831, -56.174277), (-34.785226, -56.27...\n",
       "1    1    3  [(-34.863831, -56.174277), (-34.865018, -56.17...\n",
       "2    1    4  [(-34.863831, -56.174277), (-34.827146, -56.14...\n",
       "3    1    5  [(-34.863831, -56.174277), (-34.870376, -56.17...\n",
       "4    1    6  [(-34.863831, -56.174277), (-34.832533, -56.25..."
      ]
     },
     "execution_count": 83,
     "metadata": {},
     "output_type": "execute_result"
    }
   ],
   "source": [
    "df = pd.DataFrame(id_diadas, columns=['ori', 'des'])\n",
    "df['coords'] = coords\n",
    "df = df.loc[df.ori != df.des].reset_index(drop=True)\n",
    "\n",
    "df.head()"
   ]
  },
  {
   "cell_type": "code",
   "execution_count": 87,
   "metadata": {},
   "outputs": [],
   "source": [
    "import pickle"
   ]
  },
  {
   "cell_type": "code",
   "execution_count": 89,
   "metadata": {},
   "outputs": [],
   "source": [
    "with open('data/shortest_paths.pkl', 'wb') as file:\n",
    "    pickle.dump(df, file)"
   ]
  },
  {
   "cell_type": "code",
   "execution_count": 6,
   "metadata": {},
   "outputs": [
    {
     "data": {
      "text/html": [
       "<div>\n",
       "<style scoped>\n",
       "    .dataframe tbody tr th:only-of-type {\n",
       "        vertical-align: middle;\n",
       "    }\n",
       "\n",
       "    .dataframe tbody tr th {\n",
       "        vertical-align: top;\n",
       "    }\n",
       "\n",
       "    .dataframe thead th {\n",
       "        text-align: right;\n",
       "    }\n",
       "</style>\n",
       "<table border=\"1\" class=\"dataframe\">\n",
       "  <thead>\n",
       "    <tr style=\"text-align: right;\">\n",
       "      <th></th>\n",
       "      <th>0</th>\n",
       "    </tr>\n",
       "  </thead>\n",
       "  <tbody>\n",
       "    <tr>\n",
       "      <th>type</th>\n",
       "      <td>FeatureCollection</td>\n",
       "    </tr>\n",
       "    <tr>\n",
       "      <th>crs</th>\n",
       "      <td>{'type': 'name', 'properties': {'name': 'urn:o...</td>\n",
       "    </tr>\n",
       "    <tr>\n",
       "      <th>features</th>\n",
       "      <td>[{'type': 'Feature', 'properties': {'origen': ...</td>\n",
       "    </tr>\n",
       "  </tbody>\n",
       "</table>\n",
       "</div>"
      ],
      "text/plain": [
       "                                                          0\n",
       "type                                      FeatureCollection\n",
       "crs       {'type': 'name', 'properties': {'name': 'urn:o...\n",
       "features  [{'type': 'Feature', 'properties': {'origen': ..."
      ]
     },
     "execution_count": 6,
     "metadata": {},
     "output_type": "execute_result"
    }
   ],
   "source": [
    "import pandas as pd\n",
    "geojson_lines = pd.read_json('data/shortest_paths.geojson', orient='index')\n",
    "geojson_lines"
   ]
  },
  {
   "cell_type": "code",
   "execution_count": null,
   "metadata": {},
   "outputs": [],
   "source": [
    "folium.GeoJson(antarctic_ice_edge, name=\"geojson\").add_to(m)"
   ]
  }
 ],
 "metadata": {
  "kernelspec": {
   "display_name": "Python 3.10.4 ('tablero_migraciones')",
   "language": "python",
   "name": "python3"
  },
  "language_info": {
   "codemirror_mode": {
    "name": "ipython",
    "version": 3
   },
   "file_extension": ".py",
   "mimetype": "text/x-python",
   "name": "python",
   "nbconvert_exporter": "python",
   "pygments_lexer": "ipython3",
   "version": "3.10.4"
  },
  "orig_nbformat": 4,
  "vscode": {
   "interpreter": {
    "hash": "465017645b8f0dbdbf5ce81b87d7066d4e147be498d80b4bfd47117126b5fb4d"
   }
  }
 },
 "nbformat": 4,
 "nbformat_minor": 2
}
